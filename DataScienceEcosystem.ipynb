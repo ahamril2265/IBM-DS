{
 "cells": [
  {
   "cell_type": "markdown",
   "id": "7559f5ea-98ce-4d7f-9acc-8b967625a144",
   "metadata": {},
   "source": [
    "# H1 Data Science Tools and Ecosystem"
   ]
  },
  {
   "cell_type": "markdown",
   "id": "cfe3d661-ed4e-4c8b-a869-fbe9d712c156",
   "metadata": {},
   "source": [
    "In this notebook, Data Science Tools and Eosystem are summarized."
   ]
  },
  {
   "cell_type": "markdown",
   "id": "7abe9061-44a4-4b3f-883e-7b97b06e15f8",
   "metadata": {},
   "source": [
    "Objective:\n",
    "In this final assignment, the purpose is to apply the core skills learned throughout the course by creating and organizing a Jupyter Notebook. The following objectives will be accomplished:\n",
    "\n",
    "Create and format a Jupyter Notebook using markdown and code cells\n",
    "\n",
    "List popular programming languages and commonly used libraries in data science\n",
    "\n",
    "Present data using structured markdown elements such as lists and tables\n",
    "\n",
    "Perform basic arithmetic expressions and simple unit conversions in Python\n",
    "\n",
    "Share the completed notebook through a public GitHub repository\n",
    "\n",
    "This exercise demonstrates your understanding of essential data science tools and practices, serving as a practical summary of your learning journey.\n",
    "\n"
   ]
  },
  {
   "cell_type": "markdown",
   "id": "05e03527-0e98-43da-b62b-db462384fb46",
   "metadata": {},
   "source": [
    "Some of the popular languages that Data Scientists use are: \n",
    "1. Python\n",
    "2. R\n",
    "3. SQL\n",
    "4. Java\n",
    "5. Julia"
   ]
  },
  {
   "cell_type": "markdown",
   "id": "8f20c98d-39ea-44ac-a347-b87abf0cf42e",
   "metadata": {},
   "source": [
    "Some of the commonly used libraries used by Data Scientists include:\n",
    "1. Pandas\n",
    "2. NumPy\n",
    "3. Matplotlib\n",
    "4. Seaborn\n",
    "5. Scikit-learn"
   ]
  },
  {
   "cell_type": "markdown",
   "id": "26969b27-6058-474e-9885-6d65e57bc080",
   "metadata": {},
   "source": []
  },
  {
   "cell_type": "markdown",
   "id": "f3823f87-51bb-4e2c-aad7-f097a4a15972",
   "metadata": {},
   "source": [
    "| Data Science Tools |\n",
    "|----------|\n",
    "| Jupyter Notebook   |\n",
    "| Google Colab       |\n",
    "| R Studio     |\n",
    "| VS Code       |\n"
   ]
  },
  {
   "cell_type": "markdown",
   "id": "a903026a-9d7e-4e20-b66c-8d1ef21834e6",
   "metadata": {},
   "source": [
    "# H3 Below are a few examples of evaluating arithmetic expressions in Python.\n"
   ]
  },
  {
   "cell_type": "code",
   "execution_count": 1,
   "id": "ee47bc07-9de4-4e51-bc10-da44a925a32a",
   "metadata": {},
   "outputs": [
    {
     "name": "stdout",
     "output_type": "stream",
     "text": [
      "5\n"
     ]
    }
   ],
   "source": [
    "a=3+2\n",
    "print(a)\n"
   ]
  },
  {
   "cell_type": "code",
   "execution_count": 2,
   "id": "1d497017-6f9b-4939-9c23-55b3212879fe",
   "metadata": {},
   "outputs": [
    {
     "name": "stdout",
     "output_type": "stream",
     "text": [
      "17\n"
     ]
    }
   ],
   "source": [
    "#This is a simple arithmetic expression to multiply then add integers.\n",
    "\n",
    "a=5\n",
    "b=a*2\n",
    "print(b+7)"
   ]
  },
  {
   "cell_type": "code",
   "execution_count": 5,
   "id": "9081fb94-2f4c-4383-be9d-8ba38f44f212",
   "metadata": {},
   "outputs": [
    {
     "name": "stdout",
     "output_type": "stream",
     "text": [
      "3  hours  20  minutes\n"
     ]
    }
   ],
   "source": [
    "# This will convert 200 minutes to hours by dividing by 60.\n",
    "a=200\n",
    "print(a//60, \" hours \",a%60,\" minutes\")\n"
   ]
  },
  {
   "cell_type": "markdown",
   "id": "9ba9c0a5-334d-4d76-8fe4-c4d008d756fa",
   "metadata": {},
   "source": [
    "# H2 Ahamed Rilwan Mohaaideen"
   ]
  }
 ],
 "metadata": {
  "kernelspec": {
   "display_name": "Python 3 (ipykernel)",
   "language": "python",
   "name": "python3"
  },
  "language_info": {
   "codemirror_mode": {
    "name": "ipython",
    "version": 3
   },
   "file_extension": ".py",
   "mimetype": "text/x-python",
   "name": "python",
   "nbconvert_exporter": "python",
   "pygments_lexer": "ipython3",
   "version": "3.12.8"
  }
 },
 "nbformat": 4,
 "nbformat_minor": 5
}
